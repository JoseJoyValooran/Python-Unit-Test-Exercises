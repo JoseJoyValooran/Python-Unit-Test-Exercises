{
  "nbformat": 4,
  "nbformat_minor": 0,
  "metadata": {
    "colab": {
      "provenance": [],
      "authorship_tag": "ABX9TyMTZD8uQQdoOjYsj36ZlBkP",
      "include_colab_link": true
    },
    "kernelspec": {
      "name": "python3",
      "display_name": "Python 3"
    },
    "language_info": {
      "name": "python"
    }
  },
  "cells": [
    {
      "cell_type": "markdown",
      "metadata": {
        "id": "view-in-github",
        "colab_type": "text"
      },
      "source": [
        "<a href=\"https://colab.research.google.com/github/JoseJoyValooran/Python-Unit-Test-Exercises/blob/main/Python-Unit-Test-Exercises.ipynb\" target=\"_parent\"><img src=\"https://colab.research.google.com/assets/colab-badge.svg\" alt=\"Open In Colab\"/></a>"
      ]
    },
    {
      "cell_type": "code",
      "source": [],
      "metadata": {
        "id": "IXv1iTVutyPM"
      },
      "execution_count": null,
      "outputs": []
    },
    {
      "cell_type": "markdown",
      "source": [
        "Print the Python version to the console."
      ],
      "metadata": {
        "id": "owNsyIhI6bZb"
      }
    },
    {
      "cell_type": "code",
      "source": [
        "import sys\n",
        "\n",
        "\n",
        "print(sys.version.split()[0])"
      ],
      "metadata": {
        "colab": {
          "base_uri": "https://localhost:8080/"
        },
        "id": "rQuwZbz56jUc",
        "outputId": "122bceae-94a3-4437-bf80-db240d446bad"
      },
      "execution_count": 1,
      "outputs": [
        {
          "output_type": "stream",
          "name": "stdout",
          "text": [
            "3.10.12\n"
          ]
        }
      ]
    },
    {
      "cell_type": "markdown",
      "source": [
        "Exercise 1\n",
        "Using the print() function, print to the console: 'Learn Python!'"
      ],
      "metadata": {
        "id": "cG_0lKyp71ZS"
      }
    },
    {
      "cell_type": "code",
      "source": [
        "print('Learn Python!')"
      ],
      "metadata": {
        "colab": {
          "base_uri": "https://localhost:8080/"
        },
        "id": "M9rxyDLs8OIe",
        "outputId": "a79fc7b4-9a84-444d-b11a-b44858cb4714"
      },
      "execution_count": 2,
      "outputs": [
        {
          "output_type": "stream",
          "name": "stdout",
          "text": [
            "Learn Python!\n"
          ]
        }
      ]
    },
    {
      "cell_type": "markdown",
      "source": [
        "Exercise 2\n",
        "Assign to the variable age number 20. Using the age variable and the print() function print to the console the following text:\n",
        "\n",
        "\n",
        "\n",
        "I am 20 years old."
      ],
      "metadata": {
        "id": "s3wLynhR8Yot"
      }
    },
    {
      "cell_type": "code",
      "source": [
        "age = 20\n",
        "print(f'I am {age} years old.')"
      ],
      "metadata": {
        "colab": {
          "base_uri": "https://localhost:8080/"
        },
        "id": "RWD2IU7f8p0h",
        "outputId": "78a85ef6-ddcf-46c3-c015-6ca025ef3b14"
      },
      "execution_count": 3,
      "outputs": [
        {
          "output_type": "stream",
          "name": "stdout",
          "text": [
            "I am 20 years old.\n"
          ]
        }
      ]
    },
    {
      "cell_type": "markdown",
      "source": [
        "Exercise 3\n",
        "Create two variables (you can freely choose the names) and assign to them following values:\n",
        "\n",
        "'Python'\n",
        "\n",
        "'3.10'\n",
        "\n",
        "Using these variables and the print() function, print to the console the following text:\n",
        "\n",
        "\n",
        "\n",
        "I am learning Python version 3.10"
      ],
      "metadata": {
        "id": "HbSkHHXy8xQe"
      }
    },
    {
      "cell_type": "code",
      "source": [
        "lang = 'Python'\n",
        "version = '3.10'\n",
        "print(f'I am learning {lang} version {version}')"
      ],
      "metadata": {
        "colab": {
          "base_uri": "https://localhost:8080/"
        },
        "id": "BjNXe0cL89m-",
        "outputId": "a78951d9-30e3-4c89-88f8-41798c3c9c13"
      },
      "execution_count": 4,
      "outputs": [
        {
          "output_type": "stream",
          "name": "stdout",
          "text": [
            "I am learning Python version 3.10\n"
          ]
        }
      ]
    },
    {
      "cell_type": "markdown",
      "source": [
        "Exercise 4\n",
        "Assign 199.99 to the price variable and check the solution.\n",
        "\n",
        "\n",
        "\n",
        "Expected result:\n",
        "\n",
        "\n",
        "\n",
        "This costs 199.99\n"
      ],
      "metadata": {
        "id": "gVHEKcJQ9QeL"
      }
    },
    {
      "cell_type": "code",
      "source": [
        "price = 199.99\n",
        "print('This costs', price)"
      ],
      "metadata": {
        "colab": {
          "base_uri": "https://localhost:8080/"
        },
        "id": "I0s6kZcl_i1t",
        "outputId": "d4fc3a9a-62c4-4a29-e37c-3b0b59625bc7"
      },
      "execution_count": 10,
      "outputs": [
        {
          "output_type": "stream",
          "name": "stdout",
          "text": [
            "This costs 199.99\n"
          ]
        }
      ]
    },
    {
      "cell_type": "markdown",
      "source": [
        "Exercise 5\n",
        "Assign 69.99 to the price variable and check the solution.\n",
        "\n",
        "\n",
        "\n",
        "Expected result:\n",
        "\n",
        "\n",
        "\n",
        "This costs 69.99"
      ],
      "metadata": {
        "id": "kKm9sI9P_vIr"
      }
    },
    {
      "cell_type": "code",
      "source": [
        "price = 69.99\n",
        "print(f'This costs {price}')"
      ],
      "metadata": {
        "colab": {
          "base_uri": "https://localhost:8080/"
        },
        "id": "C11NiI-p_6Xo",
        "outputId": "4c77092e-4413-449c-ba00-53333c5cae0c"
      },
      "execution_count": 11,
      "outputs": [
        {
          "output_type": "stream",
          "name": "stdout",
          "text": [
            "This costs 69.99\n"
          ]
        }
      ]
    },
    {
      "cell_type": "markdown",
      "source": [],
      "metadata": {
        "id": "CL_Xj7hd__kc"
      }
    }
  ]
}